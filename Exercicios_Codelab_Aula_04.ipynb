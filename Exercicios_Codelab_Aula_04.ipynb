{
  "nbformat": 4,
  "nbformat_minor": 0,
  "metadata": {
    "colab": {
      "name": "Exercicios_Codelab_Aula_04.ipynb",
      "provenance": [],
      "collapsed_sections": [],
      "include_colab_link": true
    },
    "kernelspec": {
      "name": "python3",
      "display_name": "Python 3"
    },
    "language_info": {
      "name": "python"
    }
  },
  "cells": [
    {
      "cell_type": "markdown",
      "metadata": {
        "id": "view-in-github",
        "colab_type": "text"
      },
      "source": [
        "<a href=\"https://colab.research.google.com/github/Jean-Martins22/Exercicios-Python/blob/main/Exercicios_Codelab_Aula_04.ipynb\" target=\"_parent\"><img src=\"https://colab.research.google.com/assets/colab-badge.svg\" alt=\"Open In Colab\"/></a>"
      ]
    },
    {
      "cell_type": "markdown",
      "metadata": {
        "id": "SW-cnnj3AAlE"
      },
      "source": [
        "## Exercício 01\n",
        "\n",
        "Faça um programa que pergunte ao usuário um número e valide se o numero é par ou impar:\n",
        "\n",
        "* Crie uma variável para receber o valor, com conversão para int\n",
        "* Para um número ser par, a divisão dele por 2 tem que dar resto 0"
      ]
    },
    {
      "cell_type": "code",
      "metadata": {
        "id": "ZeuCDPZQFT9T",
        "colab": {
          "base_uri": "https://localhost:8080/"
        },
        "outputId": "80a73072-0210-4174-f86f-0cc6ed1b75e9"
      },
      "source": [
        "n1 = int(input(\"Digite um número:\"))\n",
        "\n",
        "if n1 % 2 == 0:\n",
        "  print(\"Seu número é Par\")\n",
        "\n",
        "else:\n",
        "  print(\"Seu número é Impar\")"
      ],
      "execution_count": null,
      "outputs": [
        {
          "output_type": "stream",
          "text": [
            "Digite um número:10\n",
            "Seu número é Par\n"
          ],
          "name": "stdout"
        }
      ]
    },
    {
      "cell_type": "markdown",
      "metadata": {
        "id": "jXVUBuN3DcU-"
      },
      "source": [
        "## Exercício 02\n",
        "\n",
        "> Parte 1\n",
        "\n",
        "Faça um script que peça um valor e mostre na tela se o valor é positivo ou negativo.\n",
        "\n",
        "> Parte 2\n",
        "\n",
        "Agora implemente a funcionalidade de não aceitar o número 0, no input. (esse vai além do explicado até agora)"
      ]
    },
    {
      "cell_type": "code",
      "metadata": {
        "id": "bsM4V6SeHwJr",
        "colab": {
          "base_uri": "https://localhost:8080/"
        },
        "outputId": "6e5e527d-f147-4733-8498-573a652a8199"
      },
      "source": [
        "n1 = int(input(\"Digite um número:\"))\n",
        "\n",
        "\n",
        "if n1  > 0:\n",
        "  print(\"Seu número é Positivo\")\n",
        "elif n1 == 0:\n",
        "  print(\"Seu número é Neutro\")\n",
        "else:\n",
        "  print(\"Seu número é Negativo\")"
      ],
      "execution_count": null,
      "outputs": [
        {
          "output_type": "stream",
          "text": [
            "Digite um número:0\n",
            "Seu número é Neutro\n"
          ],
          "name": "stdout"
        }
      ]
    },
    {
      "cell_type": "markdown",
      "metadata": {
        "id": "90mUizLXOKd3"
      },
      "source": [
        "## Exercício 03\n",
        "\n",
        "Faça um programa que peça dois números, imprima o maior deles ou imprima \"Numeros iguais\" se os números forem iguais."
      ]
    },
    {
      "cell_type": "code",
      "metadata": {
        "id": "7yXB2kfUVYuD",
        "colab": {
          "base_uri": "https://localhost:8080/"
        },
        "outputId": "7492f7c7-459d-4353-c0ac-93d8f597784d"
      },
      "source": [
        "n1 = int(input(\"Digite um número:\"))\n",
        "n2 = int(input(\"Digite outro número:\"))\n",
        "\n",
        "if n1 > n2:\n",
        "  print(f\"O número maior é: {n1}\")\n",
        "elif n2 > n1:\n",
        "  print(f\"O número maior é: {n2}\")\n",
        "elif n1 == n2:\n",
        "  print(\"Números iguais\")\n",
        "else:\n",
        "  print(\"Erro\")"
      ],
      "execution_count": null,
      "outputs": [
        {
          "output_type": "stream",
          "text": [
            "Digite um número:5\n",
            "Digite outro número:5\n",
            "Números iguais\n"
          ],
          "name": "stdout"
        }
      ]
    },
    {
      "cell_type": "markdown",
      "metadata": {
        "id": "9BATv7tsOWOI"
      },
      "source": [
        "## Exercício 04\n",
        "\n",
        "Crie um programa que verifique se uma letra digitada é \"F\" ou \"M\". Conforme a letra, escrever: F - Feminino, M - Masculino, caso escreva outra letra: Sexo Biológico Inválido."
      ]
    },
    {
      "cell_type": "code",
      "metadata": {
        "id": "pRm8kyI7Wnp4",
        "colab": {
          "base_uri": "https://localhost:8080/"
        },
        "outputId": "7c15dbd4-38db-438a-f02d-192d803c70fd"
      },
      "source": [
        "n1 = str(input(\"Digite seu sexo [F/M]:\")).strip()\n",
        "\n",
        "if n1 == \"M\" or n1 == \"m\":\n",
        "  print(\"Masculino\")\n",
        "elif n1 == \"F\" or n1 == \"f\":\n",
        "  print(\"Feminino\")\n",
        "else:\n",
        "  print(\"Sexo Inválido\")"
      ],
      "execution_count": null,
      "outputs": [
        {
          "output_type": "stream",
          "text": [
            "Digite seu sexo [F/M]:    f\n",
            "Feminino\n"
          ],
          "name": "stdout"
        }
      ]
    },
    {
      "cell_type": "markdown",
      "metadata": {
        "id": "WX2j2ITtY3G5"
      },
      "source": [
        "### Exercício 05\n",
        "\n",
        "Crie um programa em Python que peça a nota do aluno, que deve ser um float entre 0.00 e 10.0\n",
        "\n",
        "* Se a nota for menor que 6.0, deve exibir a nota F.\n",
        "\n",
        "* Se a nota for de 6.0 até 7.0, deve exibir a nota D.\n",
        "\n",
        "* Se a nota for entre 7.0 e 8.0, deve exibir a nota C.\n",
        "\n",
        "* Se a nota for entre 8.0 e 9.0, deve exibir a nota B.\n",
        "\n",
        "* Por fim, se for entre 9.0 e 10.0, deve exibir um belo de um A."
      ]
    },
    {
      "cell_type": "code",
      "metadata": {
        "id": "4CjqLlFWY5Z-",
        "colab": {
          "base_uri": "https://localhost:8080/"
        },
        "outputId": "4c72c0a1-9ca8-45d4-ac08-5f92dd5c1020"
      },
      "source": [
        "nota = float(input(\"Digite sua nota:\"))\n",
        "\n",
        "if nota <6:\n",
        "  print(\"Você recebeu um F\")\n",
        "elif nota == 6 or nota < 7:\n",
        "  print(\"Você recebeu um D\")\n",
        "elif nota == 7 or nota < 8:\n",
        "  print(\"Você recebeu um C\")\n",
        "elif nota == 8 or nota < 9:\n",
        "  print(\"Você recebeu um B\")\n",
        "elif nota == 9 or nota <= 10:\n",
        "  print(\"Você recebeu um A\")\n",
        "else:\n",
        "  print('Erro')"
      ],
      "execution_count": null,
      "outputs": [
        {
          "output_type": "stream",
          "text": [
            "Digite sua nota:5.6\n",
            "Você recebeu um F\n"
          ],
          "name": "stdout"
        }
      ]
    },
    {
      "cell_type": "markdown",
      "metadata": {
        "id": "xep4W_T-s-Ra"
      },
      "source": [
        "# *Mini Projetos*"
      ]
    },
    {
      "cell_type": "markdown",
      "metadata": {
        "id": "4YbMlSEZG7UM"
      },
      "source": [
        "## **PROJETO 01**\n",
        "\n",
        "*   Escreva um programa que receba uma string digitada pelo usuário;\n",
        "*   Caso a string seja \"medieval\", exiba no console \"espada\";\n",
        "*   Caso contrário, se a string for \"futurista\", exiba no console \"sabre de luz\";\n",
        "*   Caso contrário, exiba no console \"Tente novamente\""
      ]
    },
    {
      "cell_type": "code",
      "metadata": {
        "id": "tn9QH5pVG8Rq",
        "colab": {
          "base_uri": "https://localhost:8080/"
        },
        "outputId": "ee535835-0ddc-4ea5-d07c-65806c0ca6c2"
      },
      "source": [
        "# Resposta:\n",
        "arma = str(input(\"Escolha uma arma: [Medieval], ou [Futurista]: \")).strip()\n",
        "\n",
        "if arma == \"medieval\" or arma == \"Medieval\":\n",
        "  print(\"Espada\")\n",
        "elif arma == \"futurista\" or arma == \"Futurista\":\n",
        "  print(\"Sabre de luz\")\n",
        "else:\n",
        "  print(\"Tente Novamente\")"
      ],
      "execution_count": null,
      "outputs": [
        {
          "output_type": "stream",
          "text": [
            "Escolha uma arma: [Medieval], ou [Futurista]: futurista\n",
            "Sabre de luz\n"
          ],
          "name": "stdout"
        }
      ]
    },
    {
      "cell_type": "markdown",
      "metadata": {
        "id": "zUGk1OiNHDik"
      },
      "source": [
        "## **PROJETO 02**\n",
        "\n",
        "* Escreva um programa que receba um ataque de espada ou sabre digitada pelo usuário;\n",
        "\n",
        "* Caso o ataque seja \"espada\", exiba no console \"VOCÊ AINDA NÃO MATOU O CHEFÃO\";\n",
        "\n",
        "* Caso contrário, se o ataque for \"sabre\", exiba no console \"VOCÊ DERROTOU O CHEFÃO COM O SABRE DE LUZ\";\n",
        "\n",
        "* Caso contrário, exiba no console \"ATAQUE NOVAMENTE\""
      ]
    },
    {
      "cell_type": "code",
      "metadata": {
        "id": "eNZokIIOHHkp",
        "colab": {
          "base_uri": "https://localhost:8080/"
        },
        "outputId": "36d5a6d9-e566-4f3e-cebe-6e931a3ff8c7"
      },
      "source": [
        "# Resposta:\n",
        "arma = str(input(\"Escolha uma arma para atacar: [Espada], ou [Sabre]: \")).strip().lower()\n",
        "\n",
        "if arma == \"espada\":\n",
        "  print(\"Você ainda não matou o chefão\")\n",
        "elif arma == \"sabre\":\n",
        "  print(\"Você derrotou o chefão com o sabre de luz\")\n",
        "else:\n",
        "  print(\"Ataque Novamente\")"
      ],
      "execution_count": null,
      "outputs": [
        {
          "output_type": "stream",
          "text": [
            "Escolha uma arma para atacar: [Espada], ou [Sabre]: Espada\n",
            "Você ainda não matou o chefão\n"
          ],
          "name": "stdout"
        }
      ]
    },
    {
      "cell_type": "markdown",
      "metadata": {
        "id": "NRhLAMa6ZfqU"
      },
      "source": [
        "## **DESAFIO 01**\n",
        "\n",
        "**Reajuste salarial**\n",
        "\n",
        "As empresas @.com resolveram dar um aumento de salário aos seus colaboradores e lhe contrataram para desenvolver o programa que calculará os reajustes.\n",
        "\n",
        "Faça um programa que recebe o salário de um colaborador e o reajuste segundo o seguinte critério, baseado no salário atual:\n",
        "* salários até R$ 280,00 (incluindo) : aumento de 20%\n",
        "\n",
        "* salários entre R\\$ 280,00 e R$ 700,00 : aumento de 15%\n",
        "\n",
        "* salários entre R\\$ 700,00 e R$ 1500,00 : aumento de 10%\n",
        "\n",
        "* salários de R$ 1500,00 em diante : aumento de 5% \n",
        "\n",
        "Após o aumento ser realizado, informe na tela:\n",
        "* o salário antes do reajuste;\n",
        "\n",
        "* o percentual de aumento aplicado;\n",
        "\n",
        "* o valor do aumento;\n",
        "\n",
        "* o novo salário, após o aumento.\""
      ]
    },
    {
      "cell_type": "code",
      "metadata": {
        "id": "VpC5oZINZXzt",
        "colab": {
          "base_uri": "https://localhost:8080/"
        },
        "outputId": "db69d8f8-81e8-4206-f064-1c2721544af1"
      },
      "source": [
        "salario = float(input(\"Digite seu salário atual: R$\"))\n",
        "\n",
        "if salario <= 280:\n",
        "  aumento = salario * 0.20 #Calcula a % a ser aumentada\n",
        "  novo = salario + aumento #Soma o salário com a % a ser aumentada\n",
        "  porcentagem1 = \"20%\"\n",
        "  print(f\"Salário antes do reajuste: R${salario} \\n Percentual de aumento aplicado: {porcentagem} \\n Valor do aumento: R${aumento:.2f} \\n Novo salário, após o aumento: R${novo:.2f}\")\n",
        "elif salario == 280 or salario < 700:\n",
        "  aumento = salario * 0.15\n",
        "  novo = salario + aumento\n",
        "  porcentagem = \"15%\"\n",
        "  print(f\"Salário antes do reajuste: R${salario} \\n Percentual de aumento aplicado: {porcentagem} \\n Valor do aumento: R${aumento:.2f} \\n Novo salário, após o aumento: R${novo:.2f}\")\n",
        "elif salario == 700 or salario < 1500:\n",
        "  aumento = salario * 0.10\n",
        "  novo = salario + aumento\n",
        "  porcentagem = \"10%\"\n",
        "  print(f\"Salário antes do reajuste: R${salario} \\n Percentual de aumento aplicado: {porcentagem} \\n Valor do aumento: R${aumento:.2f} \\n Novo salário, após o aumento: R${novo:.2f}\")\n",
        "elif salario >= 1500:\n",
        "  aumento = salario * 0.05\n",
        "  novo = salario + aumento\n",
        "  porcentagem = \"5%\"\n",
        "  print(f\"Salário antes do reajuste: R${salario} \\n Percentual de aumento aplicado: {porcentagem} \\n Valor do aumento: R${aumento:.2f} \\n Novo salário, após o aumento: R${novo:.2f}\")\n",
        "else:\n",
        "  print(\"erro\")"
      ],
      "execution_count": null,
      "outputs": [
        {
          "output_type": "stream",
          "text": [
            "Digite seu salário atual: R$1600\n",
            "Salário antes do reajuste: R$1600.0 \n",
            " Percentual de aumento aplicado: 5% \n",
            " Valor do aumento: R$80.00 \n",
            " Novo salário, após o aumento: R$1680.00\n"
          ],
          "name": "stdout"
        }
      ]
    },
    {
      "cell_type": "markdown",
      "metadata": {
        "id": "HvThpbU4aBGy"
      },
      "source": [
        "## **DESAFIO 02**\n",
        "\n",
        "**Jogo da adivinhação**\n",
        "\n",
        "Escreva um programa que faça o computador “pensar” em um número inteiro entre 0 e 10 e peça para o usuário tentar descobrir qual foi o número escolhido pelo computador. O programa deverá escrever na tela se o usuário venceu ou perdeu."
      ]
    },
    {
      "cell_type": "code",
      "metadata": {
        "id": "TVeHZbyQZIzO",
        "colab": {
          "base_uri": "https://localhost:8080/"
        },
        "outputId": "cf3f99b2-6ce0-4de4-acac-0425bbf60760"
      },
      "source": [
        "import random\n",
        "computador = random.randint(0, 10) #Faz o computador \"pensar\"\n",
        "usuario = int(input('Estou pensando em um número, tente adivinhar de 0 a 10: ')) #Pede para o usuário escolher um número\n",
        "if computador == usuario:\n",
        "    print('Você acertou!')\n",
        "else:\n",
        "    print(f'Você errou!, eu pensei no número: {computador}, e não no número: {usuario}')"
      ],
      "execution_count": null,
      "outputs": [
        {
          "output_type": "stream",
          "text": [
            "Estou pensando em um número, tente adivinhar de 0 a 10: 5\n",
            "Você errou!, eu pensei no número: 7, e não no número: 5\n"
          ],
          "name": "stdout"
        }
      ]
    },
    {
      "cell_type": "markdown",
      "metadata": {
        "id": "mjLFAUooaOH1"
      },
      "source": [
        "## **Desafio 03**\n",
        "\n",
        "**Caixa eletrônico**\n",
        "\n",
        "Faça um Programa para um caixa eletrônico. O programa deverá perguntar ao usuário a valor do saque e depois informar quantas notas de cada valor serão fornecidas. As notas disponíveis serão as de 1, 5, 10, 50 e 100 reais. O valor mínimo é de 10 reais e o máximo de 600 reais. O programa não deve se preocupar com a quantidade de notas existentes na máquina.\n",
        "\n",
        "* Exemplo 1: Para sacar a quantia de 256 reais, o programa fornece duas notas de 100, uma nota de 50, uma nota de 5 e uma nota de 1;\n",
        "\n",
        "* Exemplo 2: Para sacar a quantia de 399 reais, o programa fornece três notas de 100, uma nota de 50, quatro notas de 10, uma nota de 5 e quatro notas de 1.\n",
        "\n"
      ]
    },
    {
      "cell_type": "code",
      "metadata": {
        "colab": {
          "base_uri": "https://localhost:8080/"
        },
        "id": "ZatPHQYjXTgO",
        "outputId": "25af9500-42f1-4839-dc5b-eef79f3a8df0"
      },
      "source": [
        "lista = [100, 50, 20, 10, 5, 2, 1]\n",
        "valor = int(input(\"Informe o valor a ser sacado entre: [10] e [600] R$\"))\n",
        "cont = 0\n",
        "while True:\n",
        "    if valor >= lista[cont]:\n",
        "        nota = valor // lista[cont]\n",
        "        print(f'Total de {nota} notas de R$ {lista[cont]}')\n",
        "        valor = valor % lista[cont]\n",
        "    cont += 1\n",
        "    if valor == 0:\n",
        "        break\n",
        "print('\\nVolte sempre ao Banco Pimba! Tenha um bom dia!')"
      ],
      "execution_count": 2,
      "outputs": [
        {
          "output_type": "stream",
          "text": [
            "Informe o valor a ser sacado entre: [10] e [600] R$567\n",
            "Total de 5 notas de R$ 100\n",
            "Total de 1 notas de R$ 50\n",
            "Total de 1 notas de R$ 10\n",
            "Total de 1 notas de R$ 5\n",
            "Total de 1 notas de R$ 2\n",
            "\n",
            "Volte sempre ao Banco Pimba! Tenha um bom dia!\n"
          ],
          "name": "stdout"
        }
      ]
    }
  ]
}