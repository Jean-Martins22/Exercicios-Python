{
  "nbformat": 4,
  "nbformat_minor": 0,
  "metadata": {
    "colab": {
      "name": "Aula_07.ipynb",
      "provenance": [],
      "authorship_tag": "ABX9TyMFJgF/1raReICGNrBC+1Uw",
      "include_colab_link": true
    },
    "kernelspec": {
      "name": "python3",
      "display_name": "Python 3"
    },
    "language_info": {
      "name": "python"
    }
  },
  "cells": [
    {
      "cell_type": "markdown",
      "metadata": {
        "id": "view-in-github",
        "colab_type": "text"
      },
      "source": [
        "<a href=\"https://colab.research.google.com/github/Jean-Martins22/Exercicios-Python/blob/main/Aula_07.ipynb\" target=\"_parent\"><img src=\"https://colab.research.google.com/assets/colab-badge.svg\" alt=\"Open In Colab\"/></a>"
      ]
    },
    {
      "cell_type": "markdown",
      "metadata": {
        "id": "M6WXsOEUTl0F"
      },
      "source": [
        "#01 - Faça um programa que leia o peso de cinco pessoas. No final, mostre qual foi\n",
        "# o maior e o menor peso lidos."
      ]
    },
    {
      "cell_type": "code",
      "metadata": {
        "colab": {
          "base_uri": "https://localhost:8080/"
        },
        "id": "yKO6SreuTp-w",
        "outputId": "643af2ac-0021-41db-b0c6-4c9651f05c0b"
      },
      "source": [
        "maior = 0.0\n",
        "menor = 0.0\n",
        "\n",
        "for i in range(5):\n",
        "    pessoa = float(input(\"Digite o peso da primeira pessoa: \"))\n",
        "    if pessoa < menor or menor == 0.0:\n",
        "        menor = pessoa\n",
        "    if pessoa > maior:\n",
        "        maior = pessoa\n",
        "print(f\"O maior valor e {maior:.2f}, o menor peso é {menor:.2f}\")"
      ],
      "execution_count": 1,
      "outputs": [
        {
          "output_type": "stream",
          "text": [
            "Digite o peso da primeira pessoa: 45.5\n",
            "Digite o peso da primeira pessoa: 89.8\n",
            "Digite o peso da primeira pessoa: 55.4\n",
            "Digite o peso da primeira pessoa: 33.7\n",
            "Digite o peso da primeira pessoa: 90.8\n",
            "O maior valor e 90.80, o menor peso é 33.70\n"
          ],
          "name": "stdout"
        }
      ]
    },
    {
      "cell_type": "markdown",
      "metadata": {
        "id": "L8gRkASBXGKr"
      },
      "source": [
        "#02 - Crie um programa que pergunte ao usuário um número inteiro e faça a\n",
        "# tabuada desse número."
      ]
    },
    {
      "cell_type": "code",
      "metadata": {
        "colab": {
          "base_uri": "https://localhost:8080/"
        },
        "id": "9WXy7VJEXIGe",
        "outputId": "37d9e632-d52f-43fd-b0b5-bab1471fbe54"
      },
      "source": [
        "valor = int(input(\"Digite um valor para gerar a tabuada: \"))\n",
        "dividido = 0\n",
        "print(\"    multiplicação   \")\n",
        "for i in range(11):\n",
        "    if i !=0:\n",
        "        dividido = valor/i\n",
        "    print(f\"    {valor} * {i} = {(valor*i)}\")"
      ],
      "execution_count": 3,
      "outputs": [
        {
          "output_type": "stream",
          "text": [
            "Digite um valor para gerar a tabuada: 8\n",
            "    multiplicação   \n",
            "    8 * 0 = 0\n",
            "    8 * 1 = 8\n",
            "    8 * 2 = 16\n",
            "    8 * 3 = 24\n",
            "    8 * 4 = 32\n",
            "    8 * 5 = 40\n",
            "    8 * 6 = 48\n",
            "    8 * 7 = 56\n",
            "    8 * 8 = 64\n",
            "    8 * 9 = 72\n",
            "    8 * 10 = 80\n"
          ],
          "name": "stdout"
        }
      ]
    },
    {
      "cell_type": "markdown",
      "metadata": {
        "id": "fbp9P0MIXmDu"
      },
      "source": [
        "#03 - Crie um programa que leia o ano de nascimento de sete pessoas. No final, mostre quantas pessoas ainda não atingiram a maioridade e quantas já são maiores."
      ]
    },
    {
      "cell_type": "code",
      "metadata": {
        "colab": {
          "base_uri": "https://localhost:8080/"
        },
        "id": "EHuV7RKzXtHi",
        "outputId": "2f005980-f75d-48eb-da01-b0de77f11d11"
      },
      "source": [
        "menor=0\n",
        "maior=0\n",
        "for i in range(7):\n",
        "    idade = int(input(\"Digite seu ano de nascimento: \"))\n",
        "    if (2021 - idade) < 18 or menor == 0:\n",
        "        menor += 1\n",
        "    if (2021 - idade) >= 18 or maior == 0:\n",
        "        maior += 1\n",
        "print(f\"Existem {maior} maior de idade, e  {menor} menor de idade anos\")"
      ],
      "execution_count": 4,
      "outputs": [
        {
          "output_type": "stream",
          "text": [
            "Digite seu ano de nascimento: 1990\n",
            "Digite seu ano de nascimento: 2000\n",
            "Digite seu ano de nascimento: 2002\n",
            "Digite seu ano de nascimento: 2005\n",
            "Digite seu ano de nascimento: 1995\n",
            "Digite seu ano de nascimento: 1999\n",
            "Digite seu ano de nascimento: 2010\n",
            "Existem 5 maior de idade, e  3 menor de idade anos\n"
          ],
          "name": "stdout"
        }
      ]
    },
    {
      "cell_type": "markdown",
      "metadata": {
        "id": "q5mDdxekYqQs"
      },
      "source": [
        "#04 - Desenvolva um programa que leia seis números inteiros e mostre a soma apenas daqueles que forem pares. Se o valor digitado for ímpar, desconsidere-o. Mostre também quantos valores pares foram digitados."
      ]
    },
    {
      "cell_type": "code",
      "metadata": {
        "colab": {
          "base_uri": "https://localhost:8080/"
        },
        "id": "MHJ1mXBZYrz2",
        "outputId": "6658e7b5-1045-4b37-c43e-4db6e98074f8"
      },
      "source": [
        "pares = 0\n",
        "soma = 0\n",
        "for i in range(6):\n",
        "    numero = int(input(\"Digite um valor: \"))\n",
        "    if numero % 2 ==0:\n",
        "        pares +=1\n",
        "        soma += numero\n",
        "print(f\"A soma entre os valores pares é de {soma}, e a quantidade de numeros pares digitados é de {pares}\")"
      ],
      "execution_count": 5,
      "outputs": [
        {
          "output_type": "stream",
          "text": [
            "Digite um valor: 2\n",
            "Digite um valor: 3\n",
            "Digite um valor: 4\n",
            "Digite um valor: 5\n",
            "Digite um valor: 6\n",
            "Digite um valor: 7\n",
            "A soma entre os valores pares é de 12, e a quantidade de numeros pares digitados é de 3\n"
          ],
          "name": "stdout"
        }
      ]
    }
  ]
}