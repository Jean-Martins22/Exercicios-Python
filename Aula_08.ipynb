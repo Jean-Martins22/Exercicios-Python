{
  "nbformat": 4,
  "nbformat_minor": 0,
  "metadata": {
    "colab": {
      "name": "Aula_08.ipynb",
      "provenance": [],
      "authorship_tag": "ABX9TyNJ6rcIeUmli057gUa1LAnd",
      "include_colab_link": true
    },
    "kernelspec": {
      "name": "python3",
      "display_name": "Python 3"
    },
    "language_info": {
      "name": "python"
    }
  },
  "cells": [
    {
      "cell_type": "markdown",
      "metadata": {
        "id": "view-in-github",
        "colab_type": "text"
      },
      "source": [
        "<a href=\"https://colab.research.google.com/github/Jean-Martins22/Exercicios-Python/blob/main/Aula_08.ipynb\" target=\"_parent\"><img src=\"https://colab.research.google.com/assets/colab-badge.svg\" alt=\"Open In Colab\"/></a>"
      ]
    },
    {
      "cell_type": "markdown",
      "metadata": {
        "id": "uOigxykNdAIn"
      },
      "source": [
        "# 01 - Crie um programa que vai gerar cinco números aleatórios de 1 a 50 e colocar em uma  tupla. Depois disso, mostre a listagem de números gerados e também indique o menor e o maior valor que estão na tupla. Sem utilizar repetições. Dica: utilizar a biblioteca random do Python."
      ]
    },
    {
      "cell_type": "code",
      "metadata": {
        "colab": {
          "base_uri": "https://localhost:8080/"
        },
        "id": "LCUbR_Q6c9kS",
        "outputId": "c2b83ed7-f5b3-437c-f9fe-25b290e940cd"
      },
      "source": [
        "from random import sample\n",
        "\n",
        "numero = tuple(sample(range(50), 5))\n",
        "for a in numero:\n",
        "    print(a, end = ' ')\n",
        "print(f'''\n",
        "Maior valor sorteado: {max(numero)}\n",
        "Menor valor sorteado: {min(numero)}.''')"
      ],
      "execution_count": 1,
      "outputs": [
        {
          "output_type": "stream",
          "text": [
            "36 35 1 33 29 \n",
            "Maior valor sorteado: 36\n",
            "Menor valor sorteado: 1.\n"
          ],
          "name": "stdout"
        }
      ]
    },
    {
      "cell_type": "markdown",
      "metadata": {
        "id": "ph-yDoQxdHBm"
      },
      "source": [
        "# 02 - Desenvolva um programa que leia quatro valores pelo teclado e guarde-os em uma tupla. No final, mostre:\n",
        "# A) Quantas vezes apareceu o valor 9.\n",
        "# B) Em que posição foi digitado o primeiro valor 3"
      ]
    },
    {
      "cell_type": "code",
      "metadata": {
        "colab": {
          "base_uri": "https://localhost:8080/"
        },
        "id": "kgMZ5rU1dJ3A",
        "outputId": "83301498-99ca-4b39-e163-3844e920175a"
      },
      "source": [
        "numero = (int(input('1º valor:')), int(input('2º valor:')), int(input('3º valor:')), int(input('4º valor:')))\n",
        "print(numero)\n",
        "print(f'O número 9 aparece {numero.count(9)} vezes.')\n",
        "if 3 in numero:\n",
        "    print(f'O número 3 foi digitado pela primeira vez na posição {numero.index(3)}')\n",
        "else:\n",
        "    print('O número 3 não foi digitado')"
      ],
      "execution_count": 2,
      "outputs": [
        {
          "output_type": "stream",
          "text": [
            "1º valor:3\n",
            "2º valor:5\n",
            "3º valor:8\n",
            "4º valor:9\n",
            "(3, 5, 8, 9)\n",
            "O número 9 aparece 1 vezes.\n",
            "O número 3 foi digitado pela primeira vez na posição 0\n"
          ],
          "name": "stdout"
        }
      ]
    },
    {
      "cell_type": "markdown",
      "metadata": {
        "id": "B1uLogUJdS76"
      },
      "source": [
        "# 01 - Dada a lista l = [5, 7, 2, 9, 4, 1, 3], escreva um programa que imprima as seguintes informações:\n",
        "# a) tamanho da lista.\n",
        "# b) maior valor da lista.\n",
        "# c) menor valor da lista.\n",
        "# d) soma de todos os elementos da lista.\n",
        "# e) lista em ordem crescente.\n",
        "# f) lista em ordem decrescente.\n"
      ]
    },
    {
      "cell_type": "code",
      "metadata": {
        "colab": {
          "base_uri": "https://localhost:8080/"
        },
        "id": "OQJNiXKCdWVA",
        "outputId": "9cbb687a-89fd-46c5-d2c1-b4f33104e193"
      },
      "source": [
        "l = [5, 7, 2, 9, 4, 1, 3]\n",
        "soma = sum(l)\n",
        "print(f'O tamanho da lista é: {len(l)}')\n",
        "print(f'O maior valor da lista é: {max(l)}')\n",
        "print(f'O menor valor da lista é: {min(l)}')\n",
        "print(f'A Soma é: {soma}')\n",
        "l.sort()\n",
        "print(f'Crescente {l}')\n",
        "l.reverse()\n",
        "print(f'Decrescente {l}')"
      ],
      "execution_count": 3,
      "outputs": [
        {
          "output_type": "stream",
          "text": [
            "O tamanho da lista é: 7\n",
            "O maior valor da lista é: 9\n",
            "O menor valor da lista é: 1\n",
            "A Soma é: 31\n",
            "Crescente [1, 2, 3, 4, 5, 7, 9]\n",
            "Decrescente [9, 7, 5, 4, 3, 2, 1]\n"
          ],
          "name": "stdout"
        }
      ]
    },
    {
      "cell_type": "markdown",
      "metadata": {
        "id": "7aPh1OAQdZq-"
      },
      "source": [
        "# Desafio da noite: Utilizando listas faça um programa que faça 5 perguntas para uma pessoa sobre um crime. As perguntas são: \"Telefonou para a vítima?\",  \"Esteve no local do crime?\",  \"Mora perto da vítima?\",  \"Devia para a vítima?\", \"Já trabalhou com a vítima?\". O programa deve no final emitir uma classificação sobre a participação da pessoa no crime.  Se a pessoa responder positivamente a 2 questões ela deve ser classificada como \"Suspeita\", entre 3 e 4 como \"Cúmplice\" e 5 como \"Assassino\". Caso contrário, ele será classificado como \"Inocente\"."
      ]
    },
    {
      "cell_type": "code",
      "metadata": {
        "colab": {
          "base_uri": "https://localhost:8080/"
        },
        "id": "wIwr3tWKdcGm",
        "outputId": "db8a477f-dfda-44be-b5c2-58dc4210ead9"
      },
      "source": [
        "perguntas = list([\"Telefonou para a vítima? \",\"Esteve no local do crime? \",\"Mora perto da vítima? \",\"Devia para a vítima? \",\"você ja trabalhou com a vítima? \"])\n",
        "resposta = \"\"\n",
        "resultado =list([\"Inocente\",\"Suspeita\",\"Cumplice\",\"Cumplice\",\"Assassino\"])\n",
        "culpa = 0\n",
        "for i in range(5):\n",
        "    resposta = input(perguntas[i]).strip().lower()\n",
        "    if resposta.startswith(\"s\"):\n",
        "        culpa += 1\n",
        "if culpa == 1:\n",
        "    print(f\"Você é um(a): {resultado[culpa]}\")\n",
        "else:\n",
        "    print(f\"Você é um(a): {resultado[culpa-1]}\")"
      ],
      "execution_count": 4,
      "outputs": [
        {
          "output_type": "stream",
          "text": [
            "Telefonou para a vítima? s\n",
            "Esteve no local do crime? s\n",
            "Mora perto da vítima? s\n",
            "Devia para a vítima? s\n",
            "você ja trabalhou com a vítima? s\n",
            "Você é um(a): Assassino\n"
          ],
          "name": "stdout"
        }
      ]
    }
  ]
}