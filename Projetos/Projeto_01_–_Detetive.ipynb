{
  "nbformat": 4,
  "nbformat_minor": 0,
  "metadata": {
    "colab": {
      "name": "Projeto 01 – Detetive",
      "provenance": [],
      "collapsed_sections": [],
      "authorship_tag": "ABX9TyP+2/HhACO50ZRDISBY6bvE",
      "include_colab_link": true
    },
    "kernelspec": {
      "name": "python3",
      "display_name": "Python 3"
    },
    "language_info": {
      "name": "python"
    }
  },
  "cells": [
    {
      "cell_type": "markdown",
      "metadata": {
        "id": "view-in-github",
        "colab_type": "text"
      },
      "source": [
        "<a href=\"https://colab.research.google.com/github/Jean-Martins22/Exercicios-Python/blob/main/Projeto_01_%E2%80%93_Detetive.ipynb\" target=\"_parent\"><img src=\"https://colab.research.google.com/assets/colab-badge.svg\" alt=\"Open In Colab\"/></a>"
      ]
    },
    {
      "cell_type": "code",
      "metadata": {
        "colab": {
          "base_uri": "https://localhost:8080/"
        },
        "id": "3-rw-ySVDHAj",
        "outputId": "3a8becc9-2f52-4836-d377-b49c6cc7bb10"
      },
      "source": [
        "a1 = str(input(\"Você telefonou para a vítima ? \")).lower()\n",
        "x = 0\n",
        "if a1 == \"sim\":\n",
        "  x += 1\n",
        "elif a1 == \"não\":\n",
        "  x =- 1\n",
        "a2 = str(input(\"Você esteve no local do crime ? \")).lower()\n",
        "if a2 == \"sim\":\n",
        "  x += 1\n",
        "elif a2 == \"não\":\n",
        "  x -= 1\n",
        "a3 = str(input(\"Você mora perto da vítima ? \")).lower()\n",
        "if a3 == \"sim\":\n",
        "  x += 1\n",
        "elif a3 == \"não\":\n",
        "  x -= 1\n",
        "a4 = str(input(\"Você devia para a vítima ? \")).lower()\n",
        "if a4 == \"sim\":\n",
        "  x += 1\n",
        "elif a4 == \"não\":\n",
        "  x -= 1\n",
        "a5 = str(input(\"Você já trabalhou com a vítima ? \")).lower()\n",
        "if a5 == \"sim\":\n",
        "  x += 1\n",
        "elif a5 == \"não\":\n",
        "  x -= 1\n",
        "if x == 5:\n",
        "  print(\"Você é o Assassino!\")\n",
        "elif x == 1 or x == 4 or x == 3:\n",
        "  print(\"Você é Cúmplice\")\n",
        "elif x == 0 or x == -1:\n",
        "  print(\"Você é Suspeito\")\n",
        "elif x <= -2:\n",
        "  print(\"Você é Inocente\")"
      ],
      "execution_count": 17,
      "outputs": [
        {
          "output_type": "stream",
          "text": [
            "Você telefonou para a vítima ? sim\n",
            "Você esteve no local do crime ? não\n",
            "Você mora perto da vítima ? não\n",
            "Você devia para a vítima ? não\n",
            "Você já trabalhou com a vítima ? não\n",
            "Você é Inocente\n"
          ],
          "name": "stdout"
        }
      ]
    }
  ]
}