{
  "nbformat": 4,
  "nbformat_minor": 0,
  "metadata": {
    "colab": {
      "name": "Aula_09.ipynb",
      "provenance": [],
      "authorship_tag": "ABX9TyPPGwZwVQxZY3oP2Tpl52vN",
      "include_colab_link": true
    },
    "kernelspec": {
      "name": "python3",
      "display_name": "Python 3"
    },
    "language_info": {
      "name": "python"
    }
  },
  "cells": [
    {
      "cell_type": "markdown",
      "metadata": {
        "id": "view-in-github",
        "colab_type": "text"
      },
      "source": [
        "<a href=\"https://colab.research.google.com/github/Jean-Martins22/Exercicios-Python/blob/main/Aula_09.ipynb\" target=\"_parent\"><img src=\"https://colab.research.google.com/assets/colab-badge.svg\" alt=\"Open In Colab\"/></a>"
      ]
    },
    {
      "cell_type": "code",
      "metadata": {
        "colab": {
          "base_uri": "https://localhost:8080/"
        },
        "id": "smUi6hM-d4dL",
        "outputId": "e171a4f5-ebf9-4e19-af43-b7987bee3129"
      },
      "source": [
        "lista = list() # Lista\n",
        "\n",
        "while True: # Enquanto for verdade...\n",
        "    numeros = int(input('Digite um número: ')) # Pede ao usuário para digitar um número\n",
        "    if numeros not in lista: # Se o número digitado não estiver na lista...\n",
        "        lista.append(numeros) # Adiciona o número a lista\n",
        "    \n",
        "    pergunta = input('Você deseja continuar ? [S/N] ').upper().strip()[0] # Pergunta ao usuário se ele quer continuar\n",
        "    if pergunta == 'N': # Se a resposta for N...\n",
        "        break # Acaba a repetição\n",
        "\n",
        "lista.sort() # Deixa a lista em ordem crescente\n",
        "print(f'{lista}') # Mosta a lista"
      ],
      "execution_count": 1,
      "outputs": [
        {
          "output_type": "stream",
          "text": [
            "Digite um número: 1\n",
            "Você deseja continuar ? [S/N] s\n",
            "Digite um número: 2\n",
            "Você deseja continuar ? [S/N] s\n",
            "Digite um número: 3\n",
            "Você deseja continuar ? [S/N] s\n",
            "Digite um número: 4\n",
            "Você deseja continuar ? [S/N] n\n",
            "[1, 2, 3, 4]\n"
          ],
          "name": "stdout"
        }
      ]
    },
    {
      "cell_type": "markdown",
      "metadata": {
        "id": "Y7tzPr15d_-H"
      },
      "source": [
        "#02 - Crie um programa que vai ler vários números e colocar em uma lista. Depois disso, crie duas listas extras que vão conter apenas os valores pares e os valores ímpares digitados, respectivamente. Ao final, mostre o conteúdo das três listas geradas.\n"
      ]
    },
    {
      "cell_type": "code",
      "metadata": {
        "colab": {
          "base_uri": "https://localhost:8080/"
        },
        "id": "XMkutq-heC6W",
        "outputId": "5f8e315b-432f-49f2-be1e-74485e6b2d6c"
      },
      "source": [
        "lista = list() # Lista com os números digitados\n",
        "lista2 = list() # Lista só com números Pares\n",
        "lista3 = list() # Lista só com números Impar\n",
        "\n",
        "while True: # Enquanto for verdade\n",
        "    numeros = int(input('Digite um número: ')) # Pede para o usuária digitar um número\n",
        "    lista.append(numeros) # Adiciona o número na primeira lista\n",
        "    if numeros % 2 == 0: # Se a divisão do número digitado for igual a 0...\n",
        "        lista2.append(numeros) # Adiciona o número na lista de números pares\n",
        "    else: # Se não...\n",
        "        lista3.append(numeros) # Adiciona o número na lista de números impar\n",
        "        \n",
        "    pergunta = input('Você deseja continuar ? [S/N] ').upper().strip()[0] # Pergunta ao usuário se ele quer continuar\n",
        "    if pergunta == 'N': # Se a resposta for N...\n",
        "        break # Acaba a repetição\n",
        "\n",
        "print(f'Lista: {lista}\\n Lista só com números pares: {lista2}\\n Lista só com números ímpares: {lista3}') # Mostra todas as listas"
      ],
      "execution_count": 3,
      "outputs": [
        {
          "output_type": "stream",
          "text": [
            "Digite um número: 11\n",
            "Você deseja continuar ? [S/N] s\n",
            "Digite um número: 1\n",
            "Você deseja continuar ? [S/N] s\n",
            "Digite um número: 10\n",
            "Você deseja continuar ? [S/N] s\n",
            "Digite um número: 2\n",
            "Você deseja continuar ? [S/N] n\n",
            "Lista: [11, 1, 10, 2]\n",
            " Lista só com números pares: [10, 2]\n",
            " Lista só com números ímpares: [11, 1]\n"
          ],
          "name": "stdout"
        }
      ]
    },
    {
      "cell_type": "markdown",
      "metadata": {
        "id": "aoNq02OueO6X"
      },
      "source": [
        "# Desafio: Faça um programa que ajude um jogador da MEGA SENA a criar palpites. O programa vai perguntar quantos jogos serão gerados e vai sortear 6 números entre 1 e 60 para cada jogo, cadastrando tudo em uma lista composta."
      ]
    },
    {
      "cell_type": "code",
      "metadata": {
        "colab": {
          "base_uri": "https://localhost:8080/"
        },
        "id": "9e-VM-EOeSZh",
        "outputId": "994dce73-c706-46f6-8663-3f8eef99a4fb"
      },
      "source": [
        "from random import randint # Da lista ramdom importar o randint\n",
        "\n",
        "jogos = list()\n",
        "lista = list()\n",
        "quantidade = int(input('Eae vai querer fazer quantos jogos ? ')) # Pergunta ao usuário quantos jogos ele vai querer fazer\n",
        "total = 1 # Total de jogos que o usuário vai querer jogar\n",
        "\n",
        "while total <= quantidade: # Enquanto total for maior ou igual a quantidade...\n",
        "    cont = 0\n",
        "    while True: # Enquanto for verdade...\n",
        "        numero = randint(1, 60) # Sorteia números de 1 a 60\n",
        "        if numero not in lista: # Se o número digitado não estiver na lista...\n",
        "            lista.append(numero) # Adicionar o número na lista\n",
        "            cont += 1 # Adiciona mais 1 em cont\n",
        "        if cont >= 6: # Se cont for maior ou igual a 6...\n",
        "            break # Para a repetição\n",
        "    lista.sort() # Deixa a lista em ordem crescente\n",
        "    jogos.append(lista[:]) # Adiciona a lista duplicada dentro de jogos\n",
        "    lista.clear() # Limpa a lista\n",
        "    total += 1 # Acrecenta mais 1 no total\n",
        "\n",
        "for i, l in enumerate(jogos):\n",
        "    print(f'Jogo {i+1}: {l}')"
      ],
      "execution_count": 4,
      "outputs": [
        {
          "output_type": "stream",
          "text": [
            "Eae vai querer fazer quantos jogos ? 4\n",
            "Jogo 1: [1, 14, 32, 36, 43, 60]\n",
            "Jogo 2: [17, 35, 49, 57, 59, 60]\n",
            "Jogo 3: [15, 20, 29, 32, 45, 59]\n",
            "Jogo 4: [4, 6, 7, 26, 34, 43]\n"
          ],
          "name": "stdout"
        }
      ]
    }
  ]
}