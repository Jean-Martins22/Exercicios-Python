{
  "nbformat": 4,
  "nbformat_minor": 0,
  "metadata": {
    "colab": {
      "name": "Aula_02_Codelab_1.ipynb",
      "provenance": [],
      "collapsed_sections": [],
      "authorship_tag": "ABX9TyMOVQMGIxy2GsUcdKeQWvte",
      "include_colab_link": true
    },
    "kernelspec": {
      "name": "python3",
      "display_name": "Python 3"
    },
    "language_info": {
      "name": "python"
    }
  },
  "cells": [
    {
      "cell_type": "markdown",
      "metadata": {
        "id": "view-in-github",
        "colab_type": "text"
      },
      "source": [
        "<a href=\"https://colab.research.google.com/github/Jean-Martins22/Exercicios-Python/blob/main/Aula_02_Codelab_1.ipynb\" target=\"_parent\"><img src=\"https://colab.research.google.com/assets/colab-badge.svg\" alt=\"Open In Colab\"/></a>"
      ]
    },
    {
      "cell_type": "code",
      "metadata": {
        "colab": {
          "base_uri": "https://localhost:8080/"
        },
        "id": "0mabR_Yx7vOl",
        "outputId": "77ed4fd2-0fba-43ab-e3cf-a3ac0f100876"
      },
      "source": [
        "#1 Frase na Tabela\n",
        "\n",
        "print(\"O primeiro programa a gente nunca esquece!\")"
      ],
      "execution_count": null,
      "outputs": [
        {
          "output_type": "stream",
          "text": [
            "O primeiro programa a gente nunca esquece!\n"
          ],
          "name": "stdout"
        }
      ]
    },
    {
      "cell_type": "code",
      "metadata": {
        "colab": {
          "base_uri": "https://localhost:8080/"
        },
        "id": "dI-xZblE72-C",
        "outputId": "bb9ab1bf-ef42-4ffe-8125-1c71d559c377"
      },
      "source": [
        "#2 Etiqueta\n",
        "\n",
        "print(\"Jean Martins de Melo \\n Rua TCHURUSBANGO TCHURUSBAGO \\n 38612-109 (38) 99938-3968\")"
      ],
      "execution_count": null,
      "outputs": [
        {
          "output_type": "stream",
          "text": [
            "Jean Martins de Melo \n",
            " Rua TCHURUSBANGO TCHURUSBAGO \n",
            " 38612-109 (38) 99938-3968\n"
          ],
          "name": "stdout"
        }
      ]
    },
    {
      "cell_type": "code",
      "metadata": {
        "colab": {
          "base_uri": "https://localhost:8080/"
        },
        "id": "VdOoBC-48emn",
        "outputId": "6a184d3e-221e-4c98-a755-b4ac3aaa409b"
      },
      "source": [
        "#3 Letra de Música\n",
        "\n",
        "print(\"De novo você vindo com esse papo bobo \\n Dizendo que quer terminar \\n Que acabou é o fim \\n Mas não é tão simples assim \\n E de novo, você me xinga e joga tudo fora \\n E não tá nem aí pra nossa história \\n Melhor você pensar direito agora \\n Se sair por essa porta, não vai mais voltar \\n E guarda o conselho que eu vou te dar \\n Se fosse você não iria, não dá pra esquecer \\n E quanto mais distante mais seu coração vai me querer \\n Eu não iria, melhor ficar assim \\n Chegando em casa vai se arrepender e vai voltar pra mim \")"
      ],
      "execution_count": null,
      "outputs": [
        {
          "output_type": "stream",
          "text": [
            "De novo você vindo com esse papo bobo \n",
            " Dizendo que quer terminar \n",
            " Que acabou é o fim \n",
            " Mas não é tão simples assim \n",
            " E de novo, você me xinga e joga tudo fora \n",
            " E não tá nem aí pra nossa história \n",
            " Melhor você pensar direito agora \n",
            " Se sair por essa porta, não vai mais voltar \n",
            " E guarda o conselho que eu vou te dar \n",
            " Se fosse você não iria, não dá pra esquecer \n",
            " E quanto mais distante mais seu coração vai me querer \n",
            " Eu não iria, melhor ficar assim \n",
            " Chegando em casa vai se arrepender e vai voltar pra mim \n"
          ],
          "name": "stdout"
        }
      ]
    },
    {
      "cell_type": "code",
      "metadata": {
        "colab": {
          "base_uri": "https://localhost:8080/"
        },
        "id": "T3CVq2Ev_PLO",
        "outputId": "70ae18ca-268a-43cb-8de8-ad1c388fd088"
      },
      "source": [
        "#4 Tabela de Notas\n",
        "\n",
        "a1 = (\"Aluno (A) Nota\")\n",
        "a2 = (\"========= ====\")\n",
        "a3 = (\"Aline      9.0\")\n",
        "a4 = (\"Mario      Dez\")\n",
        "a5 = (\"Sergio     4.5\")\n",
        "a6 = (\"Shirley    7.0\")\n",
        "\n",
        "print(f\"{a1}\\n{a2}\\n{a3}\\n{a4}\\n{a5}\\n{a6}\")"
      ],
      "execution_count": null,
      "outputs": [
        {
          "output_type": "stream",
          "text": [
            "Aluno (A) Nota\n",
            "========= ====\n",
            "Aline      9.0\n",
            "Mario      Dez\n",
            "Sergio     4.5\n",
            "Shirley    7.0\n"
          ],
          "name": "stdout"
        }
      ]
    },
    {
      "cell_type": "code",
      "metadata": {
        "colab": {
          "base_uri": "https://localhost:8080/"
        },
        "id": "ku-ftVcMEXj0",
        "outputId": "ffb077fb-65fe-4be2-8406-a171cc2d2e45"
      },
      "source": [
        "#5 Menu\n",
        "\n",
        "a1 = (\"Cadastro de Clientes\")\n",
        "a2 = (\"0 - Fim\")\n",
        "a3 = (\"1 - Inclui\")\n",
        "a4 = (\"2 - Altera\")\n",
        "a5 = (\"3 - Exclui\")\n",
        "a6 = (\"4 - Consulta\")\n",
        "\n",
        "print(f\"{a1}\\n{a2}\\n{a3}\\n{a4}\\n{a5}\\n{a6}\")\n",
        "\n",
        "value = input('Digite uma opção:')\n",
        "print(f'você escolheu a opção {value}')\n"
      ],
      "execution_count": null,
      "outputs": [
        {
          "output_type": "stream",
          "text": [
            "Cadastro de Clientes\n",
            "0 - Fim\n",
            "1 - Inclui\n",
            "2 - Altera\n",
            "3 - Exclui\n",
            "4 - Consulta\n",
            "Digite uma opção:0\n",
            "você escolheu a opção 0\n"
          ],
          "name": "stdout"
        }
      ]
    },
    {
      "cell_type": "code",
      "metadata": {
        "colab": {
          "base_uri": "https://localhost:8080/"
        },
        "id": "RqvGM_YtRLzH",
        "outputId": "15d6410d-4b9f-4d14-9cfc-3196e9abe7af"
      },
      "source": [
        "#Calculadora de Dano\n",
        "\n",
        "monstro = int(input(\"Quantidade de vida de um monstro (entre 10 e 50):\"))\n",
        "ataque = int(input(\"Valor do ataque do jogador por turno (entre 5 e 10):\"))\n",
        "turno = monstro//ataque\n",
        "\n",
        "print(f\"O jogador irá derrotar o monstro em {turno} turnos \")"
      ],
      "execution_count": null,
      "outputs": [
        {
          "output_type": "stream",
          "text": [
            "Quantidade de vida de um monstro (entre 10 e 50):50\n",
            "Valor do ataque do jogador por turno (entre 5 e 10):10\n",
            "O jogador irá derrotar o monstro em 5 turnos \n"
          ],
          "name": "stdout"
        }
      ]
    },
    {
      "cell_type": "code",
      "metadata": {
        "colab": {
          "base_uri": "https://localhost:8080/"
        },
        "id": "RNGodBhgSqpM",
        "outputId": "d106e1b3-3172-4d0c-ebcf-37693ec8fbcf"
      },
      "source": [
        "#01 - E os 10% do garçom?**\n",
        "\n",
        "refeicao = 42.54\n",
        "taxa = 4.254\n",
        "valor = refeicao + taxa\n",
        "\n",
        "print(f\"O valor total da conta é R${valor:.2f}\")"
      ],
      "execution_count": null,
      "outputs": [
        {
          "output_type": "stream",
          "text": [
            "O valor total da conta é R$46.79\n"
          ],
          "name": "stdout"
        }
      ]
    },
    {
      "cell_type": "code",
      "metadata": {
        "colab": {
          "base_uri": "https://localhost:8080/"
        },
        "id": "bzPuQDhuYLkT",
        "outputId": "187dccd0-2af2-41e0-d93d-8d51f2f3cc29"
      },
      "source": [
        "#02 - Qual o valor do troco?\n",
        "\n",
        "compra = 100.98\n",
        "cliente = 150.00\n",
        "valor = cliente - compra\n",
        "\n",
        "print(f\"O valor final arredondado é {valor:.2f}\")"
      ],
      "execution_count": 30,
      "outputs": [
        {
          "output_type": "stream",
          "text": [
            "O valor final arredondado é 49.02\n"
          ],
          "name": "stdout"
        }
      ]
    },
    {
      "cell_type": "code",
      "metadata": {
        "colab": {
          "base_uri": "https://localhost:8080/"
        },
        "id": "tfgbl_Eddz0G",
        "outputId": "25c800a4-23e9-4cbc-87cc-687805358cdc"
      },
      "source": [
        "#03 - Você está na flor da idade?\n",
        "\n",
        "nascimento = 2002\n",
        "atual = 2021\n",
        "idade = atual - nascimento\n",
        "print(f\"Sua idade é {idade}, Você está na flor da idade\")"
      ],
      "execution_count": 18,
      "outputs": [
        {
          "output_type": "stream",
          "text": [
            "Sua idade é 19, Você está na flor da idade\n"
          ],
          "name": "stdout"
        }
      ]
    },
    {
      "cell_type": "code",
      "metadata": {
        "colab": {
          "base_uri": "https://localhost:8080/"
        },
        "id": "LvZBHQNPEELl",
        "outputId": "9bec6aa0-83ab-4675-987e-dcc6cab9f001"
      },
      "source": [
        "#01 - Conversor de moedas\n",
        "\n",
        "real = float(input(\"Digite um valor em Real para ser convertido:\"))\n",
        "dolar = real / 5.07\n",
        "euro = real / 6.18\n",
        "librae = real / 7.19\n",
        "dolarc = real / 4.20\n",
        "pesoa = real / 0.053\n",
        "pesoc = real / 0.0070\n",
        "\n",
        "print(f\"Dólar: ${dolar:.2f}\\n Euro: €{euro:.2f}\\n Libra Esterlina: £{librae:.2f}\\n Dólar Canadense: C${dolarc:.2f}\\n Peso Argentino: ${pesoa:.2f}\\n Peso Chileno: ${pesoc:.2f}\")"
      ],
      "execution_count": 29,
      "outputs": [
        {
          "output_type": "stream",
          "text": [
            "Digite um valor em Real para ser convertido:1000\n",
            "Dólar: $197.24\n",
            " Euro: €161.81\n",
            " Libra Esterlina: £139.08\n",
            " Dólar Canadense: C$238.10\n",
            " Peso Argentino: $18867.92\n",
            " Peso Chileno: $142857.14\n"
          ],
          "name": "stdout"
        }
      ]
    },
    {
      "cell_type": "code",
      "metadata": {
        "colab": {
          "base_uri": "https://localhost:8080/"
        },
        "id": "r2iH9JSxJwE6",
        "outputId": "9dec8e5b-b733-4a39-ab31-6fb94d27b50c"
      },
      "source": [
        "#02 - Calculadora de aumento de aluguel\n",
        "\n",
        "#Parte 1\n",
        "\n",
        "aluguel = float(input(\"digite o valor do aluguel: \\n\"))\n",
        "igpm = 0.31\n",
        "valorFinal = aluguel * igpm\n",
        "print(f\"o valor total reajustado é de: R$ {(valorFinal + aluguel):.2f}\")"
      ],
      "execution_count": 31,
      "outputs": [
        {
          "output_type": "stream",
          "text": [
            "digite o valor do aluguel: \n",
            "1000\n",
            "o valor total reajustado é de: R$ 1310.00\n"
          ],
          "name": "stdout"
        }
      ]
    },
    {
      "cell_type": "code",
      "metadata": {
        "colab": {
          "base_uri": "https://localhost:8080/"
        },
        "id": "91y4E2rtKLwq",
        "outputId": "6ea1b86a-09ac-478d-b3d3-17c184e17f06"
      },
      "source": [
        "#Parte 2\n",
        "\n",
        "aluguel = float(input(\"Digite o valor do aluguel: \\n\"))\n",
        "igpm = float(input(\"Digite o percentual de reajuste:\"))\n",
        "valorFinal = aluguel * igpm/100\n",
        "print(f\"O valor total reajustado é de: R$ {(valorFinal + aluguel):.2f}\")"
      ],
      "execution_count": 40,
      "outputs": [
        {
          "output_type": "stream",
          "text": [
            "Digite o valor do aluguel: \n",
            "1000\n",
            "Digite o percentual de reajuste:31\n",
            "O valor total reajustado é de: R$ 1310.00\n"
          ],
          "name": "stdout"
        }
      ]
    }
  ]
}