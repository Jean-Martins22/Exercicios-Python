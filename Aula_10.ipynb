{
  "nbformat": 4,
  "nbformat_minor": 0,
  "metadata": {
    "colab": {
      "name": "Aula_10.ipynb",
      "provenance": [],
      "authorship_tag": "ABX9TyMesaRFB93L8t7fngADHrwm",
      "include_colab_link": true
    },
    "kernelspec": {
      "name": "python3",
      "display_name": "Python 3"
    },
    "language_info": {
      "name": "python"
    }
  },
  "cells": [
    {
      "cell_type": "markdown",
      "metadata": {
        "id": "view-in-github",
        "colab_type": "text"
      },
      "source": [
        "<a href=\"https://colab.research.google.com/github/Jean-Martins22/Exercicios-Python/blob/main/Aula_10.ipynb\" target=\"_parent\"><img src=\"https://colab.research.google.com/assets/colab-badge.svg\" alt=\"Open In Colab\"/></a>"
      ]
    },
    {
      "cell_type": "markdown",
      "metadata": {
        "id": "-jjRKCKDeuwB"
      },
      "source": [
        "# Crie uma lista composta que recebe 5 nomes e 5 idades de clientes, utilizando o for e o if, verifique quais clientes são maiores de idade e quais são menores de idade e mostre na tela a seguinte frase para cada um deles: 'Fulano é maior de idade' ou 'Fulana é menor de idade' e  também quantos são maiores e quantos são menores de idade.\n",
        "\n"
      ]
    },
    {
      "cell_type": "code",
      "metadata": {
        "colab": {
          "base_uri": "https://localhost:8080/"
        },
        "id": "T22ecGnkeqcq",
        "outputId": "f58a5531-b779-403d-df00-3a9bbf97df81"
      },
      "source": [
        "cadastro = list()\n",
        "contador = list([0,0])\n",
        "for cont in range(5):\n",
        "    client = str(input(\"Digite seu nome: \"))+\",\"+ str(input(\"Digite sua idade: \"))\n",
        "    cadastro.append(client.split(\",\"))\n",
        "    if int(cadastro[cont][1]) < 18:\n",
        "        cadastro[cont].append(\"menor de idade\")\n",
        "        contador[0] += 1\n",
        "    else:\n",
        "        cadastro[cont].append(\"maior de idade\")\n",
        "        contador[1] += 1\n",
        "for cont in cadastro:\n",
        "    print(cont)\n",
        "print(f\"menor de idade tem {contador[0]} \\nmaior de idade tem {contador[1]}\")"
      ],
      "execution_count": 2,
      "outputs": [
        {
          "output_type": "stream",
          "text": [
            "Digite seu nome: Jean\n",
            "Digite sua idade: 18\n",
            "Digite seu nome: Antonio\n",
            "Digite sua idade: 23\n",
            "Digite seu nome: Queijão\n",
            "Digite sua idade: 40\n",
            "Digite seu nome: Jonas\n",
            "Digite sua idade: 25\n",
            "Digite seu nome: Biferti\n",
            "Digite sua idade: 24\n",
            "['Jean', '18', 'maior de idade']\n",
            "['Antonio', '23', 'maior de idade']\n",
            "['Queijão', '40', 'maior de idade']\n",
            "['Jonas', '25', 'maior de idade']\n",
            "['Biferti', '24', 'maior de idade']\n",
            "menor de idade tem 0 \n",
            "maior de idade tem 5\n"
          ],
          "name": "stdout"
        }
      ]
    },
    {
      "cell_type": "markdown",
      "metadata": {
        "id": "miuKL7sJfMV8"
      },
      "source": [
        "#01 - Crie um programa que declare uma matriz de dimensão 3×3 e preencha com valores lidos pelo teclado. No final, mostre a matriz na tela, com essa formatação:\n",
        "\n",
        "# [  1  ][  2  ][  3  ]\n",
        "# [  4  ][  5  ][  6  ]\n",
        "# [  7  ][  8  ][  9  ]"
      ]
    },
    {
      "cell_type": "code",
      "metadata": {
        "colab": {
          "base_uri": "https://localhost:8080/"
        },
        "id": "n5ogJ6LrfNX8",
        "outputId": "3d472c82-809a-4915-99e7-1db80b90f567"
      },
      "source": [
        "matriz = [[1, 2, 3], [4, 5, 6], [7, 8, 9]]\n",
        "\n",
        "matriz = [[0, 0, 0], [0, 0, 0], [0, 0, 0]]\n",
        "for l in range(0, 3):\n",
        "    for c in range(0, 3):\n",
        "        matriz[l][c] = int(input(f'Digite um valor para [{l}, {c}]: '))\n",
        "print('-=' * 30)\n",
        "for l in range(0, 3):\n",
        "    for c in range(0,3):\n",
        "        print(f'[{matriz[l][c]:^5}]', end='')\n",
        "    print()"
      ],
      "execution_count": 3,
      "outputs": [
        {
          "output_type": "stream",
          "text": [
            "Digite um valor para [0, 0]: 1\n",
            "Digite um valor para [0, 1]: 2\n",
            "Digite um valor para [0, 2]: 3\n",
            "Digite um valor para [1, 0]: 4\n",
            "Digite um valor para [1, 1]: 5\n",
            "Digite um valor para [1, 2]: 6\n",
            "Digite um valor para [2, 0]: 7\n",
            "Digite um valor para [2, 1]: 8\n",
            "Digite um valor para [2, 2]: 9\n",
            "-=-=-=-=-=-=-=-=-=-=-=-=-=-=-=-=-=-=-=-=-=-=-=-=-=-=-=-=-=-=\n",
            "[  1  ][  2  ][  3  ]\n",
            "[  4  ][  5  ][  6  ]\n",
            "[  7  ][  8  ][  9  ]\n"
          ],
          "name": "stdout"
        }
      ]
    },
    {
      "cell_type": "markdown",
      "metadata": {
        "id": "YiM5a0vFfVFH"
      },
      "source": [
        "#02 - Aprimore o desafio anterior, mostrando no final:\n",
        "#    A) A soma de todos os valores pares digitados.\n",
        "#    B) A soma dos valores da terceira coluna. \n",
        "#    C) O maior valor da segunda linha."
      ]
    },
    {
      "cell_type": "code",
      "metadata": {
        "colab": {
          "base_uri": "https://localhost:8080/"
        },
        "id": "N48gAidUfWAA",
        "outputId": "ca20a5c2-f511-4ac7-b2da-7a80832eca5f"
      },
      "source": [
        "matriz = list()\n",
        "soma = 0\n",
        "resultado = \"\"\n",
        "for i in range(3):\n",
        "    temp = list()\n",
        "    for g in range(3):\n",
        "        temp.append(int(input(f\"digite o valor de [{i}] [{g}]\")))\n",
        "    matriz.append(temp)\n",
        "#realiza a soma dos valores pares\n",
        "for i in range(3):\n",
        "    for g in range(3):\n",
        "        if matriz[i][g]%2==0:\n",
        "            soma = soma+matriz[i][g]\n",
        "resultado += \"A soma de todos os valores é: \"+str(soma)\n",
        "#soma os valores da terceira coluna e apresenta a matriz\n",
        "soma = 0\n",
        "for i in range(2,-1,-1):\n",
        "    soma = soma + matriz[i][2]\n",
        "    print(\"esta é a matriz\")\n",
        "    resultado = f\"            [   {matriz[i][0]}  ][   {matriz[i][1]}   ][   {matriz[i][2]}   ]\\n\" + resultado\n",
        "#mostra o resultado\n",
        "resultado+=\"\\nA soma dos valores da terceira coluna é: \"+str(soma)+\"\\nO maior valor da segunda linha é: \"+ str(max(matriz[1]))\n",
        "print(resultado)"
      ],
      "execution_count": 4,
      "outputs": [
        {
          "output_type": "stream",
          "text": [
            "digite o valor de [0] [0]1\n",
            "digite o valor de [0] [1]2\n",
            "digite o valor de [0] [2]3\n",
            "digite o valor de [1] [0]4\n",
            "digite o valor de [1] [1]5\n",
            "digite o valor de [1] [2]6\n",
            "digite o valor de [2] [0]7\n",
            "digite o valor de [2] [1]8\n",
            "digite o valor de [2] [2]9\n",
            "esta é a matriz\n",
            "esta é a matriz\n",
            "esta é a matriz\n",
            "            [   1  ][   2   ][   3   ]\n",
            "            [   4  ][   5   ][   6   ]\n",
            "            [   7  ][   8   ][   9   ]\n",
            "A soma de todos os valores é: 20\n",
            "A soma dos valores da terceira coluna é: 18\n",
            "O maior valor da segunda linha é: 6\n"
          ],
          "name": "stdout"
        }
      ]
    },
    {
      "cell_type": "markdown",
      "metadata": {
        "id": "J0ceaqvBfixM"
      },
      "source": [
        "#03 - Faça um programa que leia nome e peso de várias pessoas, guardando tudo em uma lista, depois do dado inserido, pergunte ao usuário se ele quer continuar, se ele não quiser pare o programa. No final mostre:\n",
        "   # Quantas pessoas foram cadastradas\n",
        "   # Mostre o maior peso\n",
        "   # Mostre o menor peso"
      ]
    },
    {
      "cell_type": "code",
      "metadata": {
        "colab": {
          "base_uri": "https://localhost:8080/"
        },
        "id": "seV01D8Xfj89",
        "outputId": "bdb68727-f9b1-451d-b3bd-492e6c74a339"
      },
      "source": [
        "cadastro = list()\n",
        "contador = 1\n",
        "\n",
        "while True:\n",
        "    cadastro.append([input(\"digite seu nome: \"),float(input(\"digite eu peso: \"))])\n",
        "    if input(\"deseja continuar ? \").lower().strip(\" \").startswith(\"n\"):\n",
        "        break\n",
        "    contador += 1\n",
        "print(f\"A quantidade de pessoas cadastradas é: {contador} \\nO maior peso é de {max(cadastro)}\\nO menor peso é de: {min(cadastro)}\")"
      ],
      "execution_count": 6,
      "outputs": [
        {
          "output_type": "stream",
          "text": [
            "digite seu nome: Jean\n",
            "digite eu peso: 70.8\n",
            "deseja continuar ? s\n",
            "digite seu nome: Antonio\n",
            "digite eu peso: 50\n",
            "deseja continuar ? sim\n",
            "digite seu nome: Queijão\n",
            "digite eu peso: 100\n",
            "deseja continuar ? n\n",
            "A quantidade de pessoas cadastradas é: 3 \n",
            "O maior peso é de ['Queijão', 100.0]\n",
            "O menor peso é de: ['Antonio', 50.0]\n"
          ],
          "name": "stdout"
        }
      ]
    }
  ]
}